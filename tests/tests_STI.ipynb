{
 "cells": [
  {
   "cell_type": "code",
   "execution_count": 41,
   "id": "d3fad074",
   "metadata": {},
   "outputs": [],
   "source": [
    "import sys\n",
    "\n",
    "sys.path.append(\"..\")"
   ]
  },
  {
   "cell_type": "code",
   "execution_count": 42,
   "id": "initial_id",
   "metadata": {
    "ExecuteTime": {
     "end_time": "2024-01-27T17:02:32.347856Z",
     "start_time": "2024-01-27T17:02:32.343202Z"
    },
    "collapsed": true
   },
   "outputs": [],
   "source": [
    "from src.model_meta import ModelMeta\n",
    "from src.properties import *\n",
    "from src.query_builder import *\n",
    "from src.repository import SqlRepository\n",
    "from src.connection import SqliteConnection\n",
    "\n",
    "class Model(ModelMeta):\n",
    "    repository = SqlRepository(SqliteConnection(\"../databases/test.db\"))\n",
    "\n",
    "class User(Model):\n",
    "    id = PrimaryKey()\n",
    "    age = IntProperty()\n",
    "    height = IntProperty()\n",
    "\n",
    "User.init_class()"
   ]
  },
  {
   "cell_type": "code",
   "execution_count": 43,
   "id": "52a8e6319af671ab",
   "metadata": {
    "ExecuteTime": {
     "end_time": "2024-01-27T17:02:32.352756Z",
     "start_time": "2024-01-27T17:02:32.348931Z"
    },
    "collapsed": false
   },
   "outputs": [],
   "source": [
    "class Student(User):\n",
    "    year = IntProperty()\n",
    "\n",
    "Student.init_class()"
   ]
  },
  {
   "cell_type": "code",
   "execution_count": 44,
   "id": "15fff67473fd7ba6",
   "metadata": {
    "ExecuteTime": {
     "end_time": "2024-01-27T17:02:32.362454Z",
     "start_time": "2024-01-27T17:02:32.352464Z"
    },
    "collapsed": false
   },
   "outputs": [],
   "source": [
    "user = User(age=10, height=10)\n",
    "user.save()"
   ]
  },
  {
   "cell_type": "code",
   "execution_count": 45,
   "id": "434ab728a37eb720",
   "metadata": {
    "ExecuteTime": {
     "end_time": "2024-01-27T17:02:32.362879Z",
     "start_time": "2024-01-27T17:02:32.356691Z"
    },
    "collapsed": false
   },
   "outputs": [],
   "source": [
    "student = Student(year=1999, height=10, age=11)\n",
    "student.save()"
   ]
  },
  {
   "cell_type": "code",
   "execution_count": 46,
   "id": "810d2fab3d014acc",
   "metadata": {
    "ExecuteTime": {
     "end_time": "2024-01-27T17:02:32.363097Z",
     "start_time": "2024-01-27T17:02:32.360069Z"
    },
    "collapsed": false
   },
   "outputs": [],
   "source": [
    "class Employee(User):\n",
    "    job = StringProperty()\n",
    "    \n",
    "Employee.init_class()"
   ]
  },
  {
   "cell_type": "code",
   "execution_count": 47,
   "id": "ac49ec5c6944b39b",
   "metadata": {
    "ExecuteTime": {
     "end_time": "2024-01-27T17:02:32.368085Z",
     "start_time": "2024-01-27T17:02:32.363410Z"
    },
    "collapsed": false
   },
   "outputs": [],
   "source": [
    "employee = Employee(job='Driver', height=178, age=30)\n",
    "employee.save()"
   ]
  },
  {
   "cell_type": "code",
   "execution_count": 48,
   "id": "30f17a53",
   "metadata": {},
   "outputs": [],
   "source": [
    "class Admin(Model):\n",
    "    id = PrimaryKey()\n",
    "    role = StringProperty()\n",
    "\n",
    "Admin.init_class()\n",
    "\n",
    "class AdminUser(Admin, User):\n",
    "    test_field = IntProperty()\n",
    "\n",
    "AdminUser.init_class()\n",
    "\n",
    "# admin_user = AdminUser(age=30, height=160, role=\"admin_user\", test_field=123)\n",
    "admin_user = AdminUser(role=\"admin_user\", test_field=123)\n",
    "admin_user.save()\n"
   ]
  }
 ],
 "metadata": {
  "kernelspec": {
   "display_name": "Python 3",
   "language": "python",
   "name": "python3"
  },
  "language_info": {
   "codemirror_mode": {
    "name": "ipython",
    "version": 3
   },
   "file_extension": ".py",
   "mimetype": "text/x-python",
   "name": "python",
   "nbconvert_exporter": "python",
   "pygments_lexer": "ipython3",
   "version": "3.11.6"
  }
 },
 "nbformat": 4,
 "nbformat_minor": 5
}
