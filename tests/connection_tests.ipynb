{
 "cells": [
  {
   "cell_type": "code",
   "execution_count": 3,
   "metadata": {},
   "outputs": [],
   "source": [
    "import sys\n",
    "\n",
    "sys.path.append(\"..\")"
   ]
  },
  {
   "cell_type": "code",
   "execution_count": 4,
   "metadata": {},
   "outputs": [],
   "source": [
    "# Connection test - not for client usage\n",
    "\n",
    "from src.connection import SqliteConnection\n",
    "\n",
    "connection = SqliteConnection(\"../databases/test.db\")\n",
    "\n",
    "assert connection.is_connected == False\n",
    "with connection:\n",
    "    assert connection.is_connected == True\n",
    "    connection.execute_query(\"\")\n",
    "\n",
    "assert connection.is_connected == False\n",
    "\n",
    "connection.set_connection(\"../databases/test2.db\")\n",
    "assert connection.is_connected == True\n",
    "connection.execute_query(\"\")\n",
    "connection.close_connection()\n",
    "assert connection.is_connected == False"
   ]
  }
 ],
 "metadata": {
  "kernelspec": {
   "display_name": "venv",
   "language": "python",
   "name": "python3"
  },
  "language_info": {
   "codemirror_mode": {
    "name": "ipython",
    "version": 3
   },
   "file_extension": ".py",
   "mimetype": "text/x-python",
   "name": "python",
   "nbconvert_exporter": "python",
   "pygments_lexer": "ipython3",
   "version": "3.11.6"
  }
 },
 "nbformat": 4,
 "nbformat_minor": 2
}
