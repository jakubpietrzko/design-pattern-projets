{
 "cells": [
  {
   "cell_type": "code",
   "execution_count": 1,
   "id": "fcc122ec",
   "metadata": {},
   "outputs": [],
   "source": [
    "import sys\n",
    "\n",
    "sys.path.append(\"..\")"
   ]
  },
  {
   "cell_type": "code",
   "execution_count": 2,
   "id": "b8f32c45d574cba2",
   "metadata": {
    "ExecuteTime": {
     "end_time": "2024-01-27T17:00:26.907009Z",
     "start_time": "2024-01-27T17:00:26.882680Z"
    },
    "collapsed": false
   },
   "outputs": [],
   "source": [
    "from src.model_meta import ModelMeta\n",
    "from src.properties import *\n",
    "from src.query_builder import *\n",
    "from src.repository import SqlRepository\n",
    "from src.connection import SqliteConnection\n",
    "\n",
    "class Model(ModelMeta):\n",
    "    repository = SqlRepository(SqliteConnection(\"../databases/test.db\"))\n",
    "\n",
    "class User(Model):\n",
    "    id = PrimaryKey()\n",
    "    age = IntProperty()\n",
    "    height = IntProperty()\n",
    "\n",
    "User.init_class()\n"
   ]
  },
  {
   "cell_type": "code",
   "execution_count": 3,
   "id": "c639d3f5b7e77765",
   "metadata": {
    "ExecuteTime": {
     "end_time": "2024-01-27T17:00:26.907317Z",
     "start_time": "2024-01-27T17:00:26.888571Z"
    },
    "collapsed": false
   },
   "outputs": [],
   "source": [
    "user = User(age=20, height=10)\n",
    "user.save()\n"
   ]
  },
  {
   "cell_type": "code",
   "execution_count": 4,
   "id": "87a01e9a42e1c70a",
   "metadata": {
    "ExecuteTime": {
     "end_time": "2024-01-27T17:00:26.907639Z",
     "start_time": "2024-01-27T17:00:26.896176Z"
    }
   },
   "outputs": [
    {
     "data": {
      "text/plain": [
       "[User(age=20, height=10, id=1)]"
      ]
     },
     "execution_count": 4,
     "metadata": {},
     "output_type": "execute_result"
    }
   ],
   "source": [
    "from src import repository\n",
    "from src.query_builder import *\n",
    "\n",
    "condition = And(\n",
    "        Or(LessThan(User.id, 2), GreaterThan(User.id, 10)),\n",
    "        Or(Equals(User.age, 20), Equals(User.age, 1)),\n",
    "    )\n",
    "User.selection.where(condition).limit(1).evaluate()"
   ]
  },
  {
   "cell_type": "code",
   "execution_count": 5,
   "id": "c1c075e125faf783",
   "metadata": {
    "ExecuteTime": {
     "end_time": "2024-01-27T17:00:26.907800Z",
     "start_time": "2024-01-27T17:00:26.899367Z"
    },
    "collapsed": false
   },
   "outputs": [
    {
     "data": {
      "text/plain": [
       "[User(age=20, height=190, id=1)]"
      ]
     },
     "execution_count": 5,
     "metadata": {},
     "output_type": "execute_result"
    }
   ],
   "source": [
    "user.height = 190\n",
    "user.save()\n",
    "User.selection.evaluate()"
   ]
  },
  {
   "cell_type": "code",
   "execution_count": 6,
   "id": "a33ec647f7edcbcc",
   "metadata": {
    "ExecuteTime": {
     "end_time": "2024-01-27T17:00:26.907954Z",
     "start_time": "2024-01-27T17:00:26.902879Z"
    },
    "collapsed": false
   },
   "outputs": [
    {
     "data": {
      "text/plain": [
       "[]"
      ]
     },
     "execution_count": 6,
     "metadata": {},
     "output_type": "execute_result"
    }
   ],
   "source": [
    "user.delete_object()\n",
    "User.selection.evaluate()"
   ]
  }
 ],
 "metadata": {
  "kernelspec": {
   "display_name": "venv",
   "language": "python",
   "name": "python3"
  },
  "language_info": {
   "codemirror_mode": {
    "name": "ipython",
    "version": 3
   },
   "file_extension": ".py",
   "mimetype": "text/x-python",
   "name": "python",
   "nbconvert_exporter": "python",
   "pygments_lexer": "ipython3",
   "version": "3.11.6"
  }
 },
 "nbformat": 4,
 "nbformat_minor": 5
}
