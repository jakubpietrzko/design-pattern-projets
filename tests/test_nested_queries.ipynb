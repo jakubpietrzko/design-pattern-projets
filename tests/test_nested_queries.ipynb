{
 "cells": [
  {
   "cell_type": "code",
   "execution_count": null,
   "metadata": {},
   "outputs": [],
   "source": [
    "import sys\n",
    "\n",
    "sys.path.append(\"..\")"
   ]
  },
  {
   "cell_type": "code",
   "execution_count": null,
   "metadata": {},
   "outputs": [],
   "source": [
    "from src.model_meta import ModelMeta\n",
    "from src.repository import SqlRepository\n",
    "from src.connection import SqliteConnection\n",
    "from src.properties import *\n",
    "from src.query_builder import *\n",
    "\n",
    "class BaseModel(ModelMeta):\n",
    "    repository = SqlRepository(SqliteConnection(\"database.db\"))\n",
    "\n",
    "class Person(BaseModel):\n",
    "    id = PrimaryKey()\n",
    "    name = StringProperty()\n",
    "    age = IntProperty()\n",
    "    height = IntProperty()\n",
    "\n",
    "Person.init_class()\n",
    "\n",
    "class Service(BaseModel):\n",
    "    id = PrimaryKey()\n",
    "    name = StringProperty()\n",
    "\n",
    "Service.init_class()    \n",
    "\n",
    "class User(Person):\n",
    "    username = StringProperty()\n",
    "    password = StringProperty()\n",
    "    services = ListProperty(Service)\n",
    "\n",
    "User.init_class()\n"
   ]
  },
  {
   "cell_type": "code",
   "execution_count": null,
   "metadata": {},
   "outputs": [],
   "source": [
    "import random\n",
    "sample_services = []\n",
    "for i in range(10):\n",
    "    service = Service(name=f\"Service {i+1}\")\n",
    "    service.save()\n",
    "    sample_services.append(service)\n",
    "\n",
    "\n",
    "sample_users = []\n",
    "\n",
    "for i in range(10):\n",
    "    user = User(name=f\"User {i+1}\", age=i+1, height=i+1, username=f\"username{i+1}\", password=f\"password{i+1}\", services=\n",
    "        random.sample(sample_services, random.randint(1, 10))\n",
    "    )\n",
    "    user.save()\n",
    "    sample_users.append(user)\n",
    "\n",
    "\n"
   ]
  },
  {
   "cell_type": "code",
   "execution_count": null,
   "metadata": {},
   "outputs": [],
   "source": [
    "condition = Or(\n",
    "    Or(\n",
    "        Or(\n",
    "            Equals(User.name, \"User 2\"),\n",
    "            Equals(User.name, \"User 3\")),\n",
    "        Equals(Subtract(User.age, 1), 0)\n",
    "\n",
    "    ),\n",
    "    GreaterThan(User.age, 5)\n",
    ")\n",
    "\n",
    "selected_users = User.selection.where(condition).evaluate()"
   ]
  },
  {
   "cell_type": "code",
   "execution_count": null,
   "metadata": {},
   "outputs": [],
   "source": [
    "for user in selected_users:\n",
    "    print(user.username, user.name, user.age, user.height)\n",
    "    print(\"\")"
   ]
  },
  {
   "cell_type": "code",
   "execution_count": null,
   "metadata": {},
   "outputs": [],
   "source": [
    "\n",
    "selected_users[-1].delete_object()"
   ]
  }
 ],
 "metadata": {
  "kernelspec": {
   "display_name": "venv",
   "language": "python",
   "name": "python3"
  },
  "language_info": {
   "codemirror_mode": {
    "name": "ipython",
    "version": 3
   },
   "file_extension": ".py",
   "mimetype": "text/x-python",
   "name": "python",
   "nbconvert_exporter": "python",
   "pygments_lexer": "ipython3",
   "version": "3.10.12"
  }
 },
 "nbformat": 4,
 "nbformat_minor": 2
}
